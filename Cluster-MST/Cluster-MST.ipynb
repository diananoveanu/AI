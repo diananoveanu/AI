{
 "cells": [
  {
   "cell_type": "code",
   "execution_count": 1,
   "metadata": {},
   "outputs": [],
   "source": [
    "%run segment_module.py\n",
    "import os\n",
    "import networkx as nx\n",
    "METHOD = cv2.TM_SQDIFF\n",
    "PATH_TO_CHARS = r'C:\\Users\\BDG3CLJ\\Desktop\\OpenCV_tutorials\\CARACTERE' #Path to all images\n",
    "CLUSTERS = r'C:\\Users\\BDG3CLJ\\Desktop\\OpenCV_tutorials\\CLUSTERS' #Path to resulted clusters\n",
    "NUM_CLUST = 32 # number of clusters"
   ]
  },
  {
   "cell_type": "code",
   "execution_count": 2,
   "metadata": {},
   "outputs": [],
   "source": [
    "def distance(img1, img2, method):\n",
    "    \"\"\"\n",
    "    Function to calculate the distance between two images using a given method\n",
    "    :param: img1 - first image (np array with shape (h, w)) - grayscale\n",
    "    :param: img2 - second image (np array with shape (h, w)) - grayscale\n",
    "    :method: distance function\n",
    "    \"\"\"\n",
    "    return cv2.matchTemplate(img1, img2, method)[0][0]"
   ]
  },
  {
   "cell_type": "code",
   "execution_count": 30,
   "metadata": {},
   "outputs": [
    {
     "name": "stdout",
     "output_type": "stream",
     "text": [
      "e_p01_ebs3-1-label-benz2-056-nok.jpg\n",
      "e_p01_ebs3-1-label-benz2-057-nok.jpg\n",
      "e_p01_ebs3-1-label-benz2-058-nok.jpg\n",
      "e_p01_ebs3-1-label-ford-02-015-nok.jpg\n",
      "e_p01_ebs3-1-label-ford-02-016-nok.jpg\n",
      "e_p01_ebs3-1-label-ford-02-017-nok.jpg\n",
      "e_p01_ebs3-1-label-ford-02-018-nok.jpg\n",
      "e_p01_ebs3-1-label-ford-02-021-nok.jpg\n",
      "e_p01_ebs3-1-label-ford-02-022-nok.jpg\n",
      "e_p01_ebs3-1-label-ford-02-023-nok.jpg\n",
      "e_p01_ebs3-1-label-ford-02-024-nok.jpg\n",
      "e_p01_ebs3-1-label-ford-02-027-nok.jpg\n",
      "e_p01_ebs3-1-label-ford-02-033-nok.jpg\n",
      "e_p01_ebs3-1-label-ford-02-036-nok.jpg\n",
      "e_p01_ebs3-1-label-ford-02-037-nok.jpg\n",
      "e_p01_ebs3-1-label-ford-02-038-nok.jpg\n",
      "e_p01_ebs3-1-label-ford-02-039-nok.jpg\n",
      "e_p01_ebs3-1-label-ford-02-044-nok.jpg\n",
      "e_p01_ebs3-1-label-ford-02-064-nok.jpg\n",
      "e_p01_ebs3-1-label-ford-02-065-nok.jpg\n"
     ]
    }
   ],
   "source": [
    "\"\"\"\n",
    "Cell for collecting all images\n",
    "\"\"\"\n",
    "img_lst = []\n",
    "i = 0\n",
    "for img_dir in os.listdir(PATH_TO_CHARS):\n",
    "    if i > 19:\n",
    "        break\n",
    "    print(img_dir)\n",
    "    path = PATH_TO_CHARS + \"\\\\\" + img_dir\n",
    "    _, imgs, _ = get_files(path)\n",
    "    for img in imgs:\n",
    "        name, im = read_image(img)\n",
    "        img_lst.append([path, name, im])\n",
    "    i += 1"
   ]
  },
  {
   "cell_type": "code",
   "execution_count": 31,
   "metadata": {},
   "outputs": [
    {
     "name": "stdout",
     "output_type": "stream",
     "text": [
      "0\n",
      "1000\n"
     ]
    }
   ],
   "source": [
    "\"\"\"\n",
    "Constructing the complete graph of images\n",
    "-weighted graph (i, j, w) - i:(first image), j:(second image), w: (distance between images)\n",
    "\"\"\"\n",
    "g = nx.Graph()\n",
    "for i in range(len(img_lst) - 1):\n",
    "    if i % 1000 == 0:\n",
    "        print(i)\n",
    "    for j in range(i + 1, len(img_lst)):\n",
    "        g.add_edge(img_lst[i][0] + '\\\\' + img_lst[i][1], img_lst[j][0] + '\\\\' + img_lst[j][1], weight=(distance(img_lst[i][2], img_lst[j][2], METHOD)))"
   ]
  },
  {
   "cell_type": "code",
   "execution_count": 32,
   "metadata": {},
   "outputs": [],
   "source": [
    "mst = nx.minimum_spanning_tree(g) #computing the minimum spanning tree of the graph"
   ]
  },
  {
   "cell_type": "code",
   "execution_count": 33,
   "metadata": {},
   "outputs": [],
   "source": [
    "edges = [e for e in mst.edges.data()] #list of mst edges"
   ]
  },
  {
   "cell_type": "code",
   "execution_count": 34,
   "metadata": {},
   "outputs": [],
   "source": [
    "edges = sorted(edges, key=lambda x : abs(x[2]['weight']), reverse = True) #sorting edges by weight (descending)"
   ]
  },
  {
   "cell_type": "code",
   "execution_count": 35,
   "metadata": {},
   "outputs": [],
   "source": [
    "to_remove = edges[:NUM_CLUST] #getting the first NUM_CLUST edges"
   ]
  },
  {
   "cell_type": "code",
   "execution_count": 36,
   "metadata": {},
   "outputs": [],
   "source": [
    "mst.remove_edges_from(to_remove) #removing first NUM_CLUST edges"
   ]
  },
  {
   "cell_type": "code",
   "execution_count": 37,
   "metadata": {},
   "outputs": [],
   "source": [
    "#Computing the connected components of the mst after removing the fist NUM_CLUST edges \n",
    "#Every connected component is a cluster\n",
    "comp = []\n",
    "for i, x in enumerate(nx.connected_components(mst)):\n",
    "    comp.append(x)"
   ]
  },
  {
   "cell_type": "code",
   "execution_count": 39,
   "metadata": {},
   "outputs": [],
   "source": [
    "#Writing the clusters to file\n",
    "comp_num = 0\n",
    "for elem in comp:\n",
    "    newpath = CLUSTERS + \"\\\\\" + str(comp_num)\n",
    "    if not os.path.exists(newpath):\n",
    "        os.makedirs(newpath)\n",
    "    img_num = 0\n",
    "    for img in elem:\n",
    "        cv2.imwrite(newpath + \"\\\\\" + str(img_num) + '.jpg', read_image(img)[1])\n",
    "        img_num += 1\n",
    "    comp_num += 1"
   ]
  }
 ],
 "metadata": {
  "kernelspec": {
   "display_name": "Python 3",
   "language": "python",
   "name": "python3"
  },
  "language_info": {
   "codemirror_mode": {
    "name": "ipython",
    "version": 3
   },
   "file_extension": ".py",
   "mimetype": "text/x-python",
   "name": "python",
   "nbconvert_exporter": "python",
   "pygments_lexer": "ipython3",
   "version": "3.6.7"
  }
 },
 "nbformat": 4,
 "nbformat_minor": 2
}
